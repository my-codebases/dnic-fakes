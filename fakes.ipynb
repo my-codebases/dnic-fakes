{
 "cells": [
  {
   "cell_type": "code",
   "execution_count": 1,
   "id": "e9a077f9-79e9-4169-8e8b-def90c33d122",
   "metadata": {
    "tags": []
   },
   "outputs": [],
   "source": [
    "from dnic_data_generator import generate_data\n",
    "from output import generate_json_data, generate_sql_scripts\n",
    "\n",
    "import json\n",
    "from datetime import datetime"
   ]
  },
  {
   "cell_type": "code",
   "execution_count": 2,
   "id": "e535270a-3153-4721-9f32-6ab7a1fded66",
   "metadata": {
    "tags": []
   },
   "outputs": [],
   "source": [
    "starting_dnic_id = 1\n",
    "start_date = datetime(2024, 12, 3, 9, 0, 0)\n",
    "number_days = 5\n",
    "offices = {\n",
    "    'ID_CARD': {\n",
    "        'ee7e5318-35d8-4287-93cd-11b6b510dd2d': {\n",
    "            'number_of_booths': 3,\n",
    "            'available_ratio': 0.40,\n",
    "            'urgent_ratio': 0.40\n",
    "        },\n",
    "        '990d8640-be51-40fd-b036-2bd6aece2322': {\n",
    "            'number_of_booths': 2,\n",
    "            'available_ratio': 0.50,\n",
    "            'urgent_ratio': 0.25\n",
    "        },\n",
    "        'd55a046e-2579-47f0-b031-52a27b4a7a49': {\n",
    "            'number_of_booths': 1,\n",
    "            'available_ratio': 0.00,\n",
    "            'urgent_ratio': 0.60\n",
    "        }\n",
    "    },\n",
    "    'PASSPORT': {\n",
    "        '31db63d2-7502-4cf2-87f8-5059548d8466': {\n",
    "            'number_of_booths': 2,\n",
    "            'available_ratio': 0.25,\n",
    "            'urgent_ratio': 0.50\n",
    "        },\n",
    "        '990d8640-be51-40fd-b036-2bd6aece2322': {\n",
    "            'number_of_booths': 1,\n",
    "            'available_ratio': 0.80,\n",
    "            'urgent_ratio': 0.00\n",
    "        },\n",
    "        'd55a046e-2579-47f0-b031-52a27b4a7a49': {\n",
    "            'number_of_booths': 1,\n",
    "            'available_ratio': 1.00,\n",
    "            'urgent_ratio': 0.00\n",
    "        }\n",
    "    }\n",
    "}"
   ]
  },
  {
   "cell_type": "code",
   "execution_count": 3,
   "id": "a4e8a7eb-4f56-40a1-9beb-bb4e3ab2be6b",
   "metadata": {
    "tags": []
   },
   "outputs": [],
   "source": [
    "data = generate_data(starting_dnic_id, start_date, number_days, offices)\n",
    "generate_json_data(data)\n",
    "generate_sql_scripts(data)"
   ]
  },
  {
   "cell_type": "code",
   "execution_count": null,
   "id": "ba87ab36-9d5d-4ea3-b93f-312720ffaae7",
   "metadata": {},
   "outputs": [],
   "source": []
  }
 ],
 "metadata": {
  "kernelspec": {
   "display_name": "Python 3 (ipykernel)",
   "language": "python",
   "name": "python3"
  },
  "language_info": {
   "codemirror_mode": {
    "name": "ipython",
    "version": 3
   },
   "file_extension": ".py",
   "mimetype": "text/x-python",
   "name": "python",
   "nbconvert_exporter": "python",
   "pygments_lexer": "ipython3",
   "version": "3.8.6"
  }
 },
 "nbformat": 4,
 "nbformat_minor": 5
}
